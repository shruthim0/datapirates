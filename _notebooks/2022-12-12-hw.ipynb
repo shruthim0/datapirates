{
 "cells": [
  {
   "attachments": {},
   "cell_type": "markdown",
   "metadata": {},
   "source": [
    "# HW\n",
    "- create your own simulation according to the given sitation below\n",
    "# Now that you have an idea of what a simulation is and how it works, create one on your own.\n",
    "We'll begin by simulating a race between a tortoise and a hare that doesn't take naps. I think we both know the results of that race, but when we're programming, it helps to start with a simpler problem and then add complexity after.\n",
    "\n",
    "First we need to establish some initial conditions:\n",
    "- The length of the race\n",
    "- The average speed of the tortoise\n",
    "- The average speed of the hare\n",
    "We also need to keep track of some values that vary during the race:\n",
    "- The current position of the tortoise\n",
    "- The current position of the hare\n",
    "- We can store both the initial conditions and the varying values in variables.\n",
    "EXTRA: For extra points do this code in javascript!"
   ]
  },
  {
   "attachments": {},
   "cell_type": "markdown",
   "metadata": {},
   "source": [
    "# QUIZ\n",
    "### Take this quiz and try to answer all the questions correctly, if you get a question wrong, go back and explain why you got it wrong and the answer you think is correct. This quiz is just to check your understanding and you will be recivening points depending on how you have done."
   ]
  },
  {
   "cell_type": "code",
   "execution_count": null,
   "metadata": {},
   "outputs": [],
   "source": [
    "questions = 4\n",
    "correct = 0\n",
    "\n",
    "print(\"For this test you will be asked \" + str(questions) + \" questions.\")\n",
    "\n",
    "Q1 = input(\"A researcher gathers data about the effect of Advanced Placement®︎ classes on students' success in college and career, and develops a simulation to show how a sequence of AP classes affect a hypothetical student's pathway.Several school administrators are concerned that the simulation contains bias favoring high-income students, however.\")\n",
    "print(\"Here are your choices: 1. The simulation is an abstraction and therefore cannot contain any bias., 2. The simulation may accidentally contain bias due to the exclusion of details., 3. If the simulation is found to contain bias, then it is not possible to remove the bias from the simulation., 4.The only way for the simulation to be biased is if the researcher intentionally used data that favored their desired output.\")\n",
    "if Q1 == \"3\":\n",
    "    print(\"GREAT JOB!\")\n",
    "    correct += 1\n",
    "else:\n",
    "    print(Q1 + \" is incorrect!\")\n",
    "\n",
    "Q2 = input(\"Jack is trying to plan his financial future using an online tool. The tool starts off by asking him to input details about his current finances and career. It then lets him choose different future scenarios, such as having children. For each scenario chosen, the tool does some calculations and outputs his projected savings at the ages of 35, 45, and 55.Would that be considered a simulation and why?\")\n",
    "print(\"Here are your choices: 1.No, it's not a simulation because it does not include a visualization of the results., 2. No, it's not a simulation because it does not include all the details of his life history and the future financial environment., 3. Yes, it's a simulation because it runs on a computer and includes both user input and computed output., 4. Yes, it's a simulation because it is an abstraction of a real world scenario that enables the drawing of inferences.\")\n",
    "if Q2 == \"4\":\n",
    "    print(\"GREAT JOB!\")\n",
    "    correct += 1\n",
    "else:\n",
    "    print(Q2 + \" is incorrect!\")\n",
    "\n",
    "Q3 = input(\"Sylvia is an industrial engineer working for a sporting goods company. She is developing a baseball bat that can hit balls with higher accuracy and asks their software engineering team to develop a simulation to verify the design.Which of the following details is most important to include in this simulation?\")\n",
    "print(\"Here are your choices: 1. Realistic sound effects based on the material of the baseball bat and the velocity of the hit, 2. A depiction of an audience in the stands with lifelike behavior in response to hit accuracy, 3. Accurate accounting for the effects of wind conditions on the movement of the ball, 4. A baseball field that is textured to differentiate between the grass and the dirt\")\n",
    "if Q3 == \"3\":\n",
    "    print(\"GREAT JOB!\")\n",
    "    correct += 1\n",
    "else:\n",
    "    print(Q3 + \" is incorrect!\")\n",
    "\n",
    "Q4 = input(\"Ashlynn is an industrial engineer who is trying to design a safer parachute. She creates a computer simulation of the parachute opening at different heights and in different environmental conditions.What are advantages of running the simulation versus an actual experiment?\")\n",
    "# NOTE: THERE ARE TWO POSSIBLE ANSWERS\n",
    "print(\"Here are your choices: 1. The simulation will not contain any bias that favors one body type over another, while an experiment will be biased., 2. The simulation can be run more safely than an actual experiment, 3. The simulation will accurately predict the parachute's safety level, while an experiment may be inaccurate due to faulty experimental design., 4. The simulation can test the parachute design in a wide range of environmental conditions that may be difficult to reliably reproduce in an experiment.\")\n",
    "if Q4 == \"4\" or \"2\":\n",
    "    print(\"GREAT JOB!\")\n",
    "    correct += 1\n",
    "else:\n",
    "    print(Q4 + \" is incorrect!\")\n",
    "\n",
    "\n",
    "\n",
    "\n",
    "print( \" you scored \" + str(correct) +\"/\" + str(questions))"
   ]
  }
 ],
 "metadata": {
  "kernelspec": {
   "display_name": "Python 3",
   "language": "python",
   "name": "python3"
  },
  "language_info": {
   "codemirror_mode": {
    "name": "ipython",
    "version": 3
   },
   "file_extension": ".py",
   "mimetype": "text/x-python",
   "name": "python",
   "nbconvert_exporter": "python",
   "pygments_lexer": "ipython3",
   "version": "3.8.10"
  },
  "orig_nbformat": 4,
  "vscode": {
   "interpreter": {
    "hash": "916dbcbb3f70747c44a77c7bcd40155683ae19c65e1c03b4aa3499c5328201f1"
   }
  }
 },
 "nbformat": 4,
 "nbformat_minor": 2
}
