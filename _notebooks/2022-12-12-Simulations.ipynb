{
 "cells": [
  {
   "attachments": {},
   "cell_type": "markdown",
   "metadata": {},
   "source": [
    "# Unit 3 Lesson 16: Simulations"
   ]
  },
  {
   "attachments": {},
   "cell_type": "markdown",
   "metadata": {},
   "source": [
    "### Objectives \n",
    "Ananya\n",
    "\n",
    "1. Understand how computers can be used to represent real-world phenomena or outcomes\n",
    "2. \n",
    "3. "
   ]
  },
  {
   "attachments": {},
   "cell_type": "markdown",
   "metadata": {},
   "source": [
    "### What are simulations?\n",
    "\n",
    "**Take notes on vocabulary terms and concepts!**\n",
    "Noor\n",
    "- **Simulations** are abstractions that mimic more complex objects or phenomenas from the real world, used for specific purposes\n",
    "    - Purposes include drawing inferences without the contraints of the real world \n",
    "- Simulations use varying sets of values to reflect the changing state of a real phenomenon\n",
    "- Often, when developing an abstract simulation, it is neccessary to remove specific deatils or simplify aspects.       \n",
    "    - Simulations can often contain bias based on which details or real-world elements were included/excluded\n",
    "- Simulations allow the formulation and redinement of hypotheses under consideration\n",
    "- Variability and randomness of the world is considered using random number generators\n",
    "- Examples: rolling dice, spinners, molecular models, analyze chemicals/reactions...\n",
    "\n",
    "### Analyzing an Example: Air-Traffic Simulator\n",
    "Shruthi\n",
    "Say we want to find out what the optimal number of aircrafts that can be in the air in one area is.\n",
    "\n",
    "- A simulation allows us to explore this question without real world contraints of money, time, safety\n",
    "    - Unfortunately we can't just fly 67 planes all at once and see what happens\n",
    "- Since the simulation won't be able to take all variables into control, it may have a bias towards one answer\n",
    "- Will not always have the same result"
   ]
  },
  {
   "cell_type": "code",
   "execution_count": null,
   "metadata": {},
   "outputs": [],
   "source": [
    "#2\n",
    "def mycloset():\n",
    "    myclothes = [\"red shoes\", \"green pants\", \"tie\", \"belt\"]"
   ]
  },
  {
   "attachments": {},
   "cell_type": "markdown",
   "metadata": {},
   "source": [
    "### Funtions/programs needed often when creating simulations\n",
    "Shruthi"
   ]
  },
  {
   "cell_type": "code",
   "execution_count": null,
   "metadata": {},
   "outputs": [],
   "source": [
    "import random # a module that defines a series of functions for generating or manipulating random integers\n",
    "random.choice() #returns a randomly selected element from the specified sequence\n",
    "random.choice(mylist) # returns random value from list\n",
    "random.randint(0,10) #randomly selects an integer from given range; range in this case is from 0 to 10\n",
    "random.random() #will generate a random float between 0.0 to 1."
   ]
  }
 ],
 "metadata": {
  "kernelspec": {
   "display_name": "Python 3",
   "language": "python",
   "name": "python3"
  },
  "language_info": {
   "name": "python",
   "version": "3.8.10 (default, Jun 22 2022, 20:18:18) \n[GCC 9.4.0]"
  },
  "orig_nbformat": 4,
  "vscode": {
   "interpreter": {
    "hash": "916dbcbb3f70747c44a77c7bcd40155683ae19c65e1c03b4aa3499c5328201f1"
   }
  }
 },
 "nbformat": 4,
 "nbformat_minor": 2
}
